{
 "cells": [
  {
   "cell_type": "code",
   "execution_count": 1,
   "id": "52a296b5",
   "metadata": {},
   "outputs": [],
   "source": [
    "import datetime"
   ]
  },
  {
   "cell_type": "code",
   "execution_count": 2,
   "id": "be6d36d0",
   "metadata": {},
   "outputs": [],
   "source": [
    "def get_product_dict():\n",
    "    product_dict = {}\n",
    "    with open('master_data/product_master.csv') as f:\n",
    "        products = f.readlines()[1:]\n",
    "        for product in products:\n",
    "            product_dict[product.split(',')[0]] = product.split(',')[2] #{Product id: Product price}\n",
    "        return product_dict"
   ]
  },
  {
   "cell_type": "code",
   "execution_count": 3,
   "id": "3a2cf532",
   "metadata": {},
   "outputs": [],
   "source": [
    "def validate_sales(order):\n",
    "    product_dict = get_product_dict()\n",
    "    if order['product_id'] in product_dict.keys():\n",
    "        if order['quantity']:\n",
    "            return int(product_dict[order['product_id']]) * int(order['quantity']) == int(order['sales'])"
   ]
  },
  {
   "cell_type": "code",
   "execution_count": 4,
   "id": "7257a8dd",
   "metadata": {},
   "outputs": [],
   "source": [
    "def validate_product_id(id, products):\n",
    "    if id in products:\n",
    "        return True\n",
    "    return False"
   ]
  },
  {
   "cell_type": "code",
   "execution_count": 5,
   "id": "0f19c7eb",
   "metadata": {},
   "outputs": [],
   "source": [
    "def validate_order_date(date):\n",
    "    dt = datetime.datetime.strptime(date, '%Y-%m-%d').date()\n",
    "    today_date = datetime.date.today()\n",
    "    delta = (today_date - dt).days\n",
    "    if delta >= 0:\n",
    "        return True\n",
    "    return False"
   ]
  },
  {
   "cell_type": "code",
   "execution_count": 6,
   "id": "dd855902",
   "metadata": {},
   "outputs": [],
   "source": [
    "def validate_city(city):\n",
    "    if city in ['Mumbai', 'Bangalore']:\n",
    "        return True\n",
    "    return False"
   ]
  },
  {
   "cell_type": "code",
   "execution_count": 7,
   "id": "c53a0d4e",
   "metadata": {},
   "outputs": [],
   "source": [
    "def validate_emptiness(orders):\n",
    "    empty_cols = []\n",
    "    for k, v in orders.items():\n",
    "        if not orders[k] or orders[k] == '':\n",
    "            empty_cols.append(k)\n",
    "    return empty_cols"
   ]
  },
  {
   "cell_type": "code",
   "execution_count": 8,
   "id": "c7283ed2",
   "metadata": {},
   "outputs": [],
   "source": [
    "#taking product id out of the master table\n",
    "def read_master_data():\n",
    "    product_list = []\n",
    "    with open('master_data/product_master.csv') as f:\n",
    "        products = f.readlines()[1:]\n",
    "        for product in products:\n",
    "            product_list.append(product.split(',')[0])\n",
    "        return product_list"
   ]
  }
 ],
 "metadata": {
  "kernelspec": {
   "display_name": "Python 3 (ipykernel)",
   "language": "python",
   "name": "python3"
  },
  "language_info": {
   "codemirror_mode": {
    "name": "ipython",
    "version": 3
   },
   "file_extension": ".py",
   "mimetype": "text/x-python",
   "name": "python",
   "nbconvert_exporter": "python",
   "pygments_lexer": "ipython3",
   "version": "3.11.1"
  }
 },
 "nbformat": 4,
 "nbformat_minor": 5
}
